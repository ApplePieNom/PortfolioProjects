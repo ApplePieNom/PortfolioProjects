{
 "cells": [
  {
   "cell_type": "markdown",
   "id": "2127b2f1",
   "metadata": {},
   "source": [
    "# Insurance Premium Analysis\n",
    "---\n",
    "Name: Crystal Pamela Ben "
   ]
  },
  {
   "cell_type": "markdown",
   "id": "b846a427",
   "metadata": {},
   "source": [
    "## 1. Cleaning Data\n",
    "---"
   ]
  },
  {
   "cell_type": "markdown",
   "id": "84d5f421",
   "metadata": {},
   "source": [
    "Note: I made some changes to the data to make it more 'dirty' to show that I can clean it. I hope it is alright. Some changes includes, add blanks, and spacing infront of the words as well as duplicates. "
   ]
  },
  {
   "cell_type": "code",
   "execution_count": 472,
   "id": "52ce4900",
   "metadata": {},
   "outputs": [],
   "source": [
    "import pandas as pd\n",
    "import numpy as np \n",
    "import seaborn as sns\n",
    "import matplotlib.pyplot as plt\n",
    "import plotly.graph_objects as gp\n",
    "import plotly.express as px\n",
    "import sqlite3\n",
    "from pandas.io import sql\n",
    "from pandasql import sqldf\n",
    "\n",
    "%matplotlib inline"
   ]
  },
  {
   "cell_type": "code",
   "execution_count": 233,
   "id": "ab66216d",
   "metadata": {
    "collapsed": true
   },
   "outputs": [
    {
     "data": {
      "text/html": [
       "<div>\n",
       "<style scoped>\n",
       "    .dataframe tbody tr th:only-of-type {\n",
       "        vertical-align: middle;\n",
       "    }\n",
       "\n",
       "    .dataframe tbody tr th {\n",
       "        vertical-align: top;\n",
       "    }\n",
       "\n",
       "    .dataframe thead th {\n",
       "        text-align: right;\n",
       "    }\n",
       "</style>\n",
       "<table border=\"1\" class=\"dataframe\">\n",
       "  <thead>\n",
       "    <tr style=\"text-align: right;\">\n",
       "      <th></th>\n",
       "      <th>age of policy holder</th>\n",
       "      <th>sex</th>\n",
       "      <th>bmi</th>\n",
       "      <th>children</th>\n",
       "      <th>smoker</th>\n",
       "      <th>region</th>\n",
       "      <th>premium charges to policy</th>\n",
       "    </tr>\n",
       "  </thead>\n",
       "  <tbody>\n",
       "    <tr>\n",
       "      <th>0</th>\n",
       "      <td>19</td>\n",
       "      <td>female</td>\n",
       "      <td>27.900</td>\n",
       "      <td>0.0</td>\n",
       "      <td>yes</td>\n",
       "      <td>southwest</td>\n",
       "      <td>16884.92400</td>\n",
       "    </tr>\n",
       "    <tr>\n",
       "      <th>1</th>\n",
       "      <td>18</td>\n",
       "      <td>male</td>\n",
       "      <td>33.770</td>\n",
       "      <td>1.0</td>\n",
       "      <td>no</td>\n",
       "      <td>southeast</td>\n",
       "      <td>1725.55230</td>\n",
       "    </tr>\n",
       "    <tr>\n",
       "      <th>2</th>\n",
       "      <td>28</td>\n",
       "      <td>male</td>\n",
       "      <td>33.000</td>\n",
       "      <td>3.0</td>\n",
       "      <td>no</td>\n",
       "      <td>southeast</td>\n",
       "      <td>4449.46200</td>\n",
       "    </tr>\n",
       "    <tr>\n",
       "      <th>3</th>\n",
       "      <td>33</td>\n",
       "      <td>male</td>\n",
       "      <td>22.705</td>\n",
       "      <td>0.0</td>\n",
       "      <td>no</td>\n",
       "      <td>northwest</td>\n",
       "      <td>21984.47061</td>\n",
       "    </tr>\n",
       "    <tr>\n",
       "      <th>4</th>\n",
       "      <td>32</td>\n",
       "      <td>male</td>\n",
       "      <td>28.880</td>\n",
       "      <td>0.0</td>\n",
       "      <td>no</td>\n",
       "      <td>northwest</td>\n",
       "      <td>3866.85520</td>\n",
       "    </tr>\n",
       "  </tbody>\n",
       "</table>\n",
       "</div>"
      ],
      "text/plain": [
       "   age of policy holder     sex     bmi  children smoker     region  \\\n",
       "0                    19  female  27.900       0.0    yes  southwest   \n",
       "1                    18    male  33.770       1.0     no  southeast   \n",
       "2                    28    male  33.000       3.0     no  southeast   \n",
       "3                    33    male  22.705       0.0     no  northwest   \n",
       "4                    32    male  28.880       0.0     no  northwest   \n",
       "\n",
       "   premium charges to policy   \n",
       "0                 16884.92400  \n",
       "1                  1725.55230  \n",
       "2                  4449.46200  \n",
       "3                 21984.47061  \n",
       "4                  3866.85520  "
      ]
     },
     "execution_count": 233,
     "metadata": {},
     "output_type": "execute_result"
    }
   ],
   "source": [
    "# Load the data.\n",
    "\n",
    "Insurance_pre = (r'C:\\Users\\cryst\\OneDrive\\Desktop\\Smart Academy Capstone\\insurance.csv')\n",
    "\n",
    "df = pd.read_csv(Insurance_pre)\n",
    "df.head()"
   ]
  },
  {
   "cell_type": "code",
   "execution_count": 234,
   "id": "383eb9fc",
   "metadata": {},
   "outputs": [
    {
     "data": {
      "text/html": [
       "<div>\n",
       "<style scoped>\n",
       "    .dataframe tbody tr th:only-of-type {\n",
       "        vertical-align: middle;\n",
       "    }\n",
       "\n",
       "    .dataframe tbody tr th {\n",
       "        vertical-align: top;\n",
       "    }\n",
       "\n",
       "    .dataframe thead th {\n",
       "        text-align: right;\n",
       "    }\n",
       "</style>\n",
       "<table border=\"1\" class=\"dataframe\">\n",
       "  <thead>\n",
       "    <tr style=\"text-align: right;\">\n",
       "      <th></th>\n",
       "      <th>Age</th>\n",
       "      <th>Sex</th>\n",
       "      <th>BMI</th>\n",
       "      <th>Children</th>\n",
       "      <th>Smoker</th>\n",
       "      <th>Region</th>\n",
       "      <th>Premium Charges</th>\n",
       "    </tr>\n",
       "  </thead>\n",
       "  <tbody>\n",
       "    <tr>\n",
       "      <th>0</th>\n",
       "      <td>19</td>\n",
       "      <td>female</td>\n",
       "      <td>27.900</td>\n",
       "      <td>0.0</td>\n",
       "      <td>yes</td>\n",
       "      <td>southwest</td>\n",
       "      <td>16884.92400</td>\n",
       "    </tr>\n",
       "    <tr>\n",
       "      <th>1</th>\n",
       "      <td>18</td>\n",
       "      <td>male</td>\n",
       "      <td>33.770</td>\n",
       "      <td>1.0</td>\n",
       "      <td>no</td>\n",
       "      <td>southeast</td>\n",
       "      <td>1725.55230</td>\n",
       "    </tr>\n",
       "    <tr>\n",
       "      <th>2</th>\n",
       "      <td>28</td>\n",
       "      <td>male</td>\n",
       "      <td>33.000</td>\n",
       "      <td>3.0</td>\n",
       "      <td>no</td>\n",
       "      <td>southeast</td>\n",
       "      <td>4449.46200</td>\n",
       "    </tr>\n",
       "    <tr>\n",
       "      <th>3</th>\n",
       "      <td>33</td>\n",
       "      <td>male</td>\n",
       "      <td>22.705</td>\n",
       "      <td>0.0</td>\n",
       "      <td>no</td>\n",
       "      <td>northwest</td>\n",
       "      <td>21984.47061</td>\n",
       "    </tr>\n",
       "    <tr>\n",
       "      <th>4</th>\n",
       "      <td>32</td>\n",
       "      <td>male</td>\n",
       "      <td>28.880</td>\n",
       "      <td>0.0</td>\n",
       "      <td>no</td>\n",
       "      <td>northwest</td>\n",
       "      <td>3866.85520</td>\n",
       "    </tr>\n",
       "  </tbody>\n",
       "</table>\n",
       "</div>"
      ],
      "text/plain": [
       "   Age     Sex     BMI  Children Smoker     Region  Premium Charges\n",
       "0   19  female  27.900       0.0    yes  southwest      16884.92400\n",
       "1   18    male  33.770       1.0     no  southeast       1725.55230\n",
       "2   28    male  33.000       3.0     no  southeast       4449.46200\n",
       "3   33    male  22.705       0.0     no  northwest      21984.47061\n",
       "4   32    male  28.880       0.0     no  northwest       3866.85520"
      ]
     },
     "execution_count": 234,
     "metadata": {},
     "output_type": "execute_result"
    }
   ],
   "source": [
    "# Renaming columns \n",
    "\n",
    "column_names = ['Age','Sex','BMI','Children','Smoker','Region','Premium Charges']\n",
    "\n",
    "df = pd.read_csv(Insurance_pre, names=column_names, skiprows=1)\n",
    "df.head()               "
   ]
  },
  {
   "cell_type": "code",
   "execution_count": 235,
   "id": "15d4b79d",
   "metadata": {},
   "outputs": [
    {
     "name": "stdout",
     "output_type": "stream",
     "text": [
      "<class 'pandas.core.frame.DataFrame'>\n",
      "RangeIndex: 1339 entries, 0 to 1338\n",
      "Data columns (total 7 columns):\n",
      " #   Column           Non-Null Count  Dtype  \n",
      "---  ------           --------------  -----  \n",
      " 0   Age              1339 non-null   int64  \n",
      " 1   Sex              1339 non-null   object \n",
      " 2   BMI              1339 non-null   float64\n",
      " 3   Children         1334 non-null   float64\n",
      " 4   Smoker           1339 non-null   object \n",
      " 5   Region           1339 non-null   object \n",
      " 6   Premium Charges  1339 non-null   float64\n",
      "dtypes: float64(3), int64(1), object(3)\n",
      "memory usage: 73.4+ KB\n"
     ]
    }
   ],
   "source": [
    "df.info()"
   ]
  },
  {
   "cell_type": "code",
   "execution_count": 236,
   "id": "390c5aae",
   "metadata": {},
   "outputs": [
    {
     "data": {
      "text/plain": [
       "Age                0\n",
       "Sex                0\n",
       "BMI                0\n",
       "Children           5\n",
       "Smoker             0\n",
       "Region             0\n",
       "Premium Charges    0\n",
       "dtype: int64"
      ]
     },
     "execution_count": 236,
     "metadata": {},
     "output_type": "execute_result"
    }
   ],
   "source": [
    "df.isnull().sum()"
   ]
  },
  {
   "cell_type": "code",
   "execution_count": 237,
   "id": "1dbeec33",
   "metadata": {},
   "outputs": [
    {
     "data": {
      "text/html": [
       "<div>\n",
       "<style scoped>\n",
       "    .dataframe tbody tr th:only-of-type {\n",
       "        vertical-align: middle;\n",
       "    }\n",
       "\n",
       "    .dataframe tbody tr th {\n",
       "        vertical-align: top;\n",
       "    }\n",
       "\n",
       "    .dataframe thead th {\n",
       "        text-align: right;\n",
       "    }\n",
       "</style>\n",
       "<table border=\"1\" class=\"dataframe\">\n",
       "  <thead>\n",
       "    <tr style=\"text-align: right;\">\n",
       "      <th></th>\n",
       "      <th>Age</th>\n",
       "      <th>Sex</th>\n",
       "      <th>BMI</th>\n",
       "      <th>Children</th>\n",
       "      <th>Smoker</th>\n",
       "      <th>Region</th>\n",
       "      <th>Premium Charges</th>\n",
       "    </tr>\n",
       "  </thead>\n",
       "  <tbody>\n",
       "    <tr>\n",
       "      <th>10</th>\n",
       "      <td>60</td>\n",
       "      <td>female</td>\n",
       "      <td>25.840</td>\n",
       "      <td>NaN</td>\n",
       "      <td>no</td>\n",
       "      <td>northwest</td>\n",
       "      <td>28923.13692</td>\n",
       "    </tr>\n",
       "    <tr>\n",
       "      <th>11</th>\n",
       "      <td>25</td>\n",
       "      <td>male</td>\n",
       "      <td>26.220</td>\n",
       "      <td>NaN</td>\n",
       "      <td>no</td>\n",
       "      <td>northeast</td>\n",
       "      <td>2721.32080</td>\n",
       "    </tr>\n",
       "    <tr>\n",
       "      <th>32</th>\n",
       "      <td>18</td>\n",
       "      <td>female</td>\n",
       "      <td>26.315</td>\n",
       "      <td>NaN</td>\n",
       "      <td>no</td>\n",
       "      <td>northeast</td>\n",
       "      <td>2198.18985</td>\n",
       "    </tr>\n",
       "    <tr>\n",
       "      <th>51</th>\n",
       "      <td>18</td>\n",
       "      <td>female</td>\n",
       "      <td>35.625</td>\n",
       "      <td>NaN</td>\n",
       "      <td>no</td>\n",
       "      <td>northeast</td>\n",
       "      <td>2211.13075</td>\n",
       "    </tr>\n",
       "    <tr>\n",
       "      <th>66</th>\n",
       "      <td>19</td>\n",
       "      <td>female</td>\n",
       "      <td>28.900</td>\n",
       "      <td>NaN</td>\n",
       "      <td>no</td>\n",
       "      <td>southwest</td>\n",
       "      <td>1743.21400</td>\n",
       "    </tr>\n",
       "  </tbody>\n",
       "</table>\n",
       "</div>"
      ],
      "text/plain": [
       "    Age     Sex     BMI  Children Smoker     Region  Premium Charges\n",
       "10   60  female  25.840       NaN     no  northwest      28923.13692\n",
       "11   25    male  26.220       NaN     no  northeast       2721.32080\n",
       "32   18  female  26.315       NaN     no  northeast       2198.18985\n",
       "51   18  female  35.625       NaN     no  northeast       2211.13075\n",
       "66   19  female  28.900       NaN     no  southwest       1743.21400"
      ]
     },
     "execution_count": 237,
     "metadata": {},
     "output_type": "execute_result"
    }
   ],
   "source": [
    "# Show records with null \n",
    "\n",
    "Null_Children = df['Children'].isnull()\n",
    "df[Null_Children].head()"
   ]
  },
  {
   "cell_type": "code",
   "execution_count": 238,
   "id": "ad906a10",
   "metadata": {},
   "outputs": [],
   "source": [
    "# Replace null in Children to 0\n",
    "\n",
    "Null_Children = df['Children'].isnull()\n",
    "df.loc[Null_Children, 'Children'] = 0"
   ]
  },
  {
   "cell_type": "code",
   "execution_count": 239,
   "id": "e6c876e7",
   "metadata": {},
   "outputs": [
    {
     "data": {
      "text/plain": [
       "Age                False\n",
       "Sex                False\n",
       "BMI                False\n",
       "Children           False\n",
       "Smoker             False\n",
       "Region             False\n",
       "Premium Charges    False\n",
       "dtype: bool"
      ]
     },
     "execution_count": 239,
     "metadata": {},
     "output_type": "execute_result"
    }
   ],
   "source": [
    "df.isnull().any()"
   ]
  },
  {
   "cell_type": "code",
   "execution_count": 240,
   "id": "4e5fd126",
   "metadata": {
    "scrolled": true
   },
   "outputs": [
    {
     "name": "stdout",
     "output_type": "stream",
     "text": [
      "[18, 19, 20, 21, 22, 23, 24, 25, 26, 27, 28, 29, 30, 31, 32, 33, 34, 35, 36, 37, 38, 39, 40, 41, 42, 43, 44, 45, 46, 47, 48, 49, 50, 51, 52, 53, 54, 55, 56, 57, 58, 59, 60, 61, 62, 63, 64, 190]\n"
     ]
    }
   ],
   "source": [
    "# Looking at the unique values \n",
    "\n",
    "Unique_Age = df['Age'].unique()\n",
    "print(sorted(Unique_Age))"
   ]
  },
  {
   "cell_type": "code",
   "execution_count": 241,
   "id": "2eca5efd",
   "metadata": {},
   "outputs": [
    {
     "data": {
      "text/html": [
       "<div>\n",
       "<style scoped>\n",
       "    .dataframe tbody tr th:only-of-type {\n",
       "        vertical-align: middle;\n",
       "    }\n",
       "\n",
       "    .dataframe tbody tr th {\n",
       "        vertical-align: top;\n",
       "    }\n",
       "\n",
       "    .dataframe thead th {\n",
       "        text-align: right;\n",
       "    }\n",
       "</style>\n",
       "<table border=\"1\" class=\"dataframe\">\n",
       "  <thead>\n",
       "    <tr style=\"text-align: right;\">\n",
       "      <th></th>\n",
       "      <th>Age</th>\n",
       "      <th>Sex</th>\n",
       "      <th>BMI</th>\n",
       "      <th>Children</th>\n",
       "      <th>Smoker</th>\n",
       "      <th>Region</th>\n",
       "      <th>Premium Charges</th>\n",
       "    </tr>\n",
       "  </thead>\n",
       "  <tbody>\n",
       "    <tr>\n",
       "      <th>16</th>\n",
       "      <td>190</td>\n",
       "      <td>male</td>\n",
       "      <td>24.6</td>\n",
       "      <td>1.0</td>\n",
       "      <td>no</td>\n",
       "      <td>southwest</td>\n",
       "      <td>1837.237</td>\n",
       "    </tr>\n",
       "  </tbody>\n",
       "</table>\n",
       "</div>"
      ],
      "text/plain": [
       "    Age   Sex   BMI  Children Smoker     Region  Premium Charges\n",
       "16  190  male  24.6       1.0     no  southwest         1837.237"
      ]
     },
     "execution_count": 241,
     "metadata": {},
     "output_type": "execute_result"
    }
   ],
   "source": [
    "Outlier_age = df['Age'] == 190\n",
    "df[Outlier_age].head()"
   ]
  },
  {
   "cell_type": "code",
   "execution_count": 242,
   "id": "e711ec41",
   "metadata": {},
   "outputs": [],
   "source": [
    "# Change outlier 190 to 19 in Age \n",
    "\n",
    "df.loc[Outlier_age, 'Age'] = 19"
   ]
  },
  {
   "cell_type": "code",
   "execution_count": 243,
   "id": "9643a3fb",
   "metadata": {},
   "outputs": [
    {
     "name": "stdout",
     "output_type": "stream",
     "text": [
      "['  female', '  male', ' female', 'female', 'male']\n"
     ]
    }
   ],
   "source": [
    "Unique_Sex = df['Sex'].unique()\n",
    "print(sorted(Unique_Sex))"
   ]
  },
  {
   "cell_type": "code",
   "execution_count": 244,
   "id": "83fe7e46",
   "metadata": {},
   "outputs": [],
   "source": [
    "# trim the spacing before and after words \n",
    "\n",
    "df['Sex'] = df['Sex'].str.strip()"
   ]
  },
  {
   "cell_type": "code",
   "execution_count": 245,
   "id": "7c636bcd",
   "metadata": {
    "scrolled": true
   },
   "outputs": [
    {
     "name": "stdout",
     "output_type": "stream",
     "text": [
      "['female', 'male']\n"
     ]
    }
   ],
   "source": [
    "Unique_Sex = df['Sex'].unique()\n",
    "print(sorted(Unique_Sex))"
   ]
  },
  {
   "cell_type": "code",
   "execution_count": 246,
   "id": "bf50ed12",
   "metadata": {
    "scrolled": true
   },
   "outputs": [
    {
     "name": "stdout",
     "output_type": "stream",
     "text": [
      "<class 'pandas.core.frame.DataFrame'>\n",
      "RangeIndex: 1339 entries, 0 to 1338\n",
      "Data columns (total 7 columns):\n",
      " #   Column           Non-Null Count  Dtype  \n",
      "---  ------           --------------  -----  \n",
      " 0   Age              1339 non-null   int64  \n",
      " 1   Sex              1339 non-null   object \n",
      " 2   BMI              1339 non-null   float64\n",
      " 3   Children         1339 non-null   float64\n",
      " 4   Smoker           1339 non-null   object \n",
      " 5   Region           1339 non-null   object \n",
      " 6   Premium Charges  1339 non-null   float64\n",
      "dtypes: float64(3), int64(1), object(3)\n",
      "memory usage: 73.4+ KB\n"
     ]
    }
   ],
   "source": [
    "df.info()"
   ]
  },
  {
   "cell_type": "code",
   "execution_count": 247,
   "id": "c153944b",
   "metadata": {
    "scrolled": true
   },
   "outputs": [
    {
     "data": {
      "text/html": [
       "<div>\n",
       "<style scoped>\n",
       "    .dataframe tbody tr th:only-of-type {\n",
       "        vertical-align: middle;\n",
       "    }\n",
       "\n",
       "    .dataframe tbody tr th {\n",
       "        vertical-align: top;\n",
       "    }\n",
       "\n",
       "    .dataframe thead th {\n",
       "        text-align: right;\n",
       "    }\n",
       "</style>\n",
       "<table border=\"1\" class=\"dataframe\">\n",
       "  <thead>\n",
       "    <tr style=\"text-align: right;\">\n",
       "      <th></th>\n",
       "      <th>Age</th>\n",
       "      <th>Sex</th>\n",
       "      <th>BMI</th>\n",
       "      <th>Children</th>\n",
       "      <th>Smoker</th>\n",
       "      <th>Region</th>\n",
       "      <th>Premium Charges</th>\n",
       "    </tr>\n",
       "  </thead>\n",
       "  <tbody>\n",
       "    <tr>\n",
       "      <th>9</th>\n",
       "      <td>60</td>\n",
       "      <td>female</td>\n",
       "      <td>25.84</td>\n",
       "      <td>0.0</td>\n",
       "      <td>no</td>\n",
       "      <td>northwest</td>\n",
       "      <td>28923.13692</td>\n",
       "    </tr>\n",
       "    <tr>\n",
       "      <th>10</th>\n",
       "      <td>60</td>\n",
       "      <td>female</td>\n",
       "      <td>25.84</td>\n",
       "      <td>0.0</td>\n",
       "      <td>no</td>\n",
       "      <td>northwest</td>\n",
       "      <td>28923.13692</td>\n",
       "    </tr>\n",
       "    <tr>\n",
       "      <th>196</th>\n",
       "      <td>19</td>\n",
       "      <td>male</td>\n",
       "      <td>30.59</td>\n",
       "      <td>0.0</td>\n",
       "      <td>no</td>\n",
       "      <td>northwest</td>\n",
       "      <td>1639.56310</td>\n",
       "    </tr>\n",
       "    <tr>\n",
       "      <th>582</th>\n",
       "      <td>19</td>\n",
       "      <td>male</td>\n",
       "      <td>30.59</td>\n",
       "      <td>0.0</td>\n",
       "      <td>no</td>\n",
       "      <td>northwest</td>\n",
       "      <td>1639.56310</td>\n",
       "    </tr>\n",
       "  </tbody>\n",
       "</table>\n",
       "</div>"
      ],
      "text/plain": [
       "     Age     Sex    BMI  Children Smoker     Region  Premium Charges\n",
       "9     60  female  25.84       0.0     no  northwest      28923.13692\n",
       "10    60  female  25.84       0.0     no  northwest      28923.13692\n",
       "196   19    male  30.59       0.0     no  northwest       1639.56310\n",
       "582   19    male  30.59       0.0     no  northwest       1639.56310"
      ]
     },
     "execution_count": 247,
     "metadata": {},
     "output_type": "execute_result"
    }
   ],
   "source": [
    "# Check for duplicates \n",
    "\n",
    "#duplicate = df[df.duplicated(subset=['Premium Charges'])]\n",
    "df[df.duplicated(keep=False)]"
   ]
  },
  {
   "cell_type": "code",
   "execution_count": 248,
   "id": "52b2a4d4",
   "metadata": {},
   "outputs": [],
   "source": [
    "# Remove duplicates from original dataframe\n",
    "\n",
    "df.drop_duplicates(inplace=True)"
   ]
  },
  {
   "cell_type": "code",
   "execution_count": 249,
   "id": "520642a2",
   "metadata": {},
   "outputs": [
    {
     "data": {
      "text/plain": [
       "0"
      ]
     },
     "execution_count": 249,
     "metadata": {},
     "output_type": "execute_result"
    }
   ],
   "source": [
    "df.duplicated().sum()"
   ]
  },
  {
   "cell_type": "code",
   "execution_count": 250,
   "id": "201d7084",
   "metadata": {
    "scrolled": true
   },
   "outputs": [
    {
     "data": {
      "text/html": [
       "<div>\n",
       "<style scoped>\n",
       "    .dataframe tbody tr th:only-of-type {\n",
       "        vertical-align: middle;\n",
       "    }\n",
       "\n",
       "    .dataframe tbody tr th {\n",
       "        vertical-align: top;\n",
       "    }\n",
       "\n",
       "    .dataframe thead th {\n",
       "        text-align: right;\n",
       "    }\n",
       "</style>\n",
       "<table border=\"1\" class=\"dataframe\">\n",
       "  <thead>\n",
       "    <tr style=\"text-align: right;\">\n",
       "      <th></th>\n",
       "      <th>Age</th>\n",
       "      <th>Sex</th>\n",
       "      <th>BMI</th>\n",
       "      <th>Children</th>\n",
       "      <th>Smoker</th>\n",
       "      <th>Region</th>\n",
       "      <th>Premium Charges</th>\n",
       "    </tr>\n",
       "  </thead>\n",
       "  <tbody>\n",
       "    <tr>\n",
       "      <th>0</th>\n",
       "      <td>19</td>\n",
       "      <td>female</td>\n",
       "      <td>27.9</td>\n",
       "      <td>0.0</td>\n",
       "      <td>yes</td>\n",
       "      <td>southwest</td>\n",
       "      <td>16884.92</td>\n",
       "    </tr>\n",
       "    <tr>\n",
       "      <th>1</th>\n",
       "      <td>18</td>\n",
       "      <td>male</td>\n",
       "      <td>33.8</td>\n",
       "      <td>1.0</td>\n",
       "      <td>no</td>\n",
       "      <td>southeast</td>\n",
       "      <td>1725.55</td>\n",
       "    </tr>\n",
       "    <tr>\n",
       "      <th>2</th>\n",
       "      <td>28</td>\n",
       "      <td>male</td>\n",
       "      <td>33.0</td>\n",
       "      <td>3.0</td>\n",
       "      <td>no</td>\n",
       "      <td>southeast</td>\n",
       "      <td>4449.46</td>\n",
       "    </tr>\n",
       "    <tr>\n",
       "      <th>3</th>\n",
       "      <td>33</td>\n",
       "      <td>male</td>\n",
       "      <td>22.7</td>\n",
       "      <td>0.0</td>\n",
       "      <td>no</td>\n",
       "      <td>northwest</td>\n",
       "      <td>21984.47</td>\n",
       "    </tr>\n",
       "    <tr>\n",
       "      <th>4</th>\n",
       "      <td>32</td>\n",
       "      <td>male</td>\n",
       "      <td>28.9</td>\n",
       "      <td>0.0</td>\n",
       "      <td>no</td>\n",
       "      <td>northwest</td>\n",
       "      <td>3866.86</td>\n",
       "    </tr>\n",
       "  </tbody>\n",
       "</table>\n",
       "</div>"
      ],
      "text/plain": [
       "   Age     Sex   BMI  Children Smoker     Region  Premium Charges\n",
       "0   19  female  27.9       0.0    yes  southwest         16884.92\n",
       "1   18    male  33.8       1.0     no  southeast          1725.55\n",
       "2   28    male  33.0       3.0     no  southeast          4449.46\n",
       "3   33    male  22.7       0.0     no  northwest         21984.47\n",
       "4   32    male  28.9       0.0     no  northwest          3866.86"
      ]
     },
     "execution_count": 250,
     "metadata": {},
     "output_type": "execute_result"
    }
   ],
   "source": [
    "# Round Premium Charges to 2 decimal & BMI to 1 decimal\n",
    "\n",
    "np.round(df['Premium Charges'], decimals = 2)\n",
    "np.round(df['BMI'], decimals = 1)\n",
    "\n",
    "df = df.round({\"BMI\":1,\"Premium Charges\":2})\n",
    "df.head(5)"
   ]
  },
  {
   "cell_type": "code",
   "execution_count": 251,
   "id": "bb1050b2",
   "metadata": {
    "scrolled": true
   },
   "outputs": [
    {
     "data": {
      "text/html": [
       "<div>\n",
       "<style scoped>\n",
       "    .dataframe tbody tr th:only-of-type {\n",
       "        vertical-align: middle;\n",
       "    }\n",
       "\n",
       "    .dataframe tbody tr th {\n",
       "        vertical-align: top;\n",
       "    }\n",
       "\n",
       "    .dataframe thead th {\n",
       "        text-align: right;\n",
       "    }\n",
       "</style>\n",
       "<table border=\"1\" class=\"dataframe\">\n",
       "  <thead>\n",
       "    <tr style=\"text-align: right;\">\n",
       "      <th></th>\n",
       "      <th>Age</th>\n",
       "      <th>Sex</th>\n",
       "      <th>BMI</th>\n",
       "      <th>Children</th>\n",
       "      <th>Smoker</th>\n",
       "      <th>Region</th>\n",
       "      <th>Premium Charges</th>\n",
       "      <th>Weight Category</th>\n",
       "    </tr>\n",
       "  </thead>\n",
       "  <tbody>\n",
       "    <tr>\n",
       "      <th>0</th>\n",
       "      <td>19</td>\n",
       "      <td>female</td>\n",
       "      <td>27.9</td>\n",
       "      <td>0.0</td>\n",
       "      <td>yes</td>\n",
       "      <td>southwest</td>\n",
       "      <td>16884.92</td>\n",
       "      <td>Overweight</td>\n",
       "    </tr>\n",
       "    <tr>\n",
       "      <th>1</th>\n",
       "      <td>18</td>\n",
       "      <td>male</td>\n",
       "      <td>33.8</td>\n",
       "      <td>1.0</td>\n",
       "      <td>no</td>\n",
       "      <td>southeast</td>\n",
       "      <td>1725.55</td>\n",
       "      <td>Class 1 Obesity</td>\n",
       "    </tr>\n",
       "    <tr>\n",
       "      <th>2</th>\n",
       "      <td>28</td>\n",
       "      <td>male</td>\n",
       "      <td>33.0</td>\n",
       "      <td>3.0</td>\n",
       "      <td>no</td>\n",
       "      <td>southeast</td>\n",
       "      <td>4449.46</td>\n",
       "      <td>Class 1 Obesity</td>\n",
       "    </tr>\n",
       "    <tr>\n",
       "      <th>3</th>\n",
       "      <td>33</td>\n",
       "      <td>male</td>\n",
       "      <td>22.7</td>\n",
       "      <td>0.0</td>\n",
       "      <td>no</td>\n",
       "      <td>northwest</td>\n",
       "      <td>21984.47</td>\n",
       "      <td>Healthy</td>\n",
       "    </tr>\n",
       "    <tr>\n",
       "      <th>4</th>\n",
       "      <td>32</td>\n",
       "      <td>male</td>\n",
       "      <td>28.9</td>\n",
       "      <td>0.0</td>\n",
       "      <td>no</td>\n",
       "      <td>northwest</td>\n",
       "      <td>3866.86</td>\n",
       "      <td>Overweight</td>\n",
       "    </tr>\n",
       "  </tbody>\n",
       "</table>\n",
       "</div>"
      ],
      "text/plain": [
       "   Age     Sex   BMI  Children Smoker     Region  Premium Charges  \\\n",
       "0   19  female  27.9       0.0    yes  southwest         16884.92   \n",
       "1   18    male  33.8       1.0     no  southeast          1725.55   \n",
       "2   28    male  33.0       3.0     no  southeast          4449.46   \n",
       "3   33    male  22.7       0.0     no  northwest         21984.47   \n",
       "4   32    male  28.9       0.0     no  northwest          3866.86   \n",
       "\n",
       "   Weight Category  \n",
       "0       Overweight  \n",
       "1  Class 1 Obesity  \n",
       "2  Class 1 Obesity  \n",
       "3          Healthy  \n",
       "4       Overweight  "
      ]
     },
     "execution_count": 251,
     "metadata": {},
     "output_type": "execute_result"
    }
   ],
   "source": [
    "# Create new columns based on BMI\n",
    "\n",
    "conditions = [ (df['BMI'] < 18.5), \n",
    "                (df['BMI'] >= 18.5) & (df['BMI'] < 25),\n",
    "                (df['BMI'] >= 25) & (df['BMI'] < 30),\n",
    "                (df['BMI'] >= 30) & (df['BMI'] < 35),\n",
    "                (df['BMI'] >= 35) & (df['BMI'] < 40),\n",
    "                (df['BMI'] >= 40) ]\n",
    "\n",
    "values = ['Underweight','Healthy','Overweight','Class 1 Obesity', 'Class 2 Obesity', 'Class 3 Obesity' ]\n",
    "\n",
    "df['Weight Category'] = np.select(conditions, values)\n",
    "\n",
    "df.head()"
   ]
  },
  {
   "cell_type": "markdown",
   "id": "62e588db",
   "metadata": {},
   "source": [
    "## 2. Python Data Visualisation\n",
    "---"
   ]
  },
  {
   "cell_type": "markdown",
   "id": "dac98805",
   "metadata": {},
   "source": [
    "### HeatMap "
   ]
  },
  {
   "cell_type": "markdown",
   "id": "084addc8",
   "metadata": {},
   "source": [
    "Heatmaps are used to show relationships between two variables, one plotted on each axis. By observing how cell colors change across each axis, you can observe if there are any patterns in value for one or both variables. From the heatmap below, the relationship between BMI of policy holder and the number of children they have has no correlation. Additionally, there is a weak positive correlation between Age and Premium charged to policy holder.  "
   ]
  },
  {
   "cell_type": "code",
   "execution_count": 275,
   "id": "2db24634",
   "metadata": {},
   "outputs": [
    {
     "data": {
      "image/png": "[encoded data removed]",
      "text/plain": [
       "<Figure size 792x360 with 2 Axes>"
      ]
     },
     "metadata": {
      "needs_background": "light"
     },
     "output_type": "display_data"
    }
   ],
   "source": [
    "fig, ax = plt.subplots(figsize=(11, 5))\n",
    "insurance_correlations = df.corr()\n",
    "sns.heatmap(insurance_correlations,annot = True,annot_kws={'fontsize': 12,});"
   ]
  },
  {
   "cell_type": "markdown",
   "id": "4d435b6a",
   "metadata": {},
   "source": [
    "### Scatter Plot"
   ]
  },
  {
   "cell_type": "markdown",
   "id": "29862915",
   "metadata": {},
   "source": [
    "Scatter plots are used to plot data points on a horizontal and a vertical axis in the attempt to show how much one variable is affected by another. Each row in the data table is represented by a marker whose position depends on its values in the columns set on the X and Y axes. From the scatter plot below, it shows that there is a relatively gentle increase in premium charged as age increase. "
   ]
  },
  {
   "cell_type": "code",
   "execution_count": 464,
   "id": "2097a2aa",
   "metadata": {
    "scrolled": true
   },
   "outputs": [
    {
     "data": {
      "text/plain": [
       "Text(0.5, 0.98, 'Correlation between BMI and Premium Charges')"
      ]
     },
     "execution_count": 464,
     "metadata": {},
     "output_type": "execute_result"
    },
    {
     "data": {
      "image/png": "[encoded data removed]",
      "text/plain": [
       "<Figure size 864x288 with 1 Axes>"
      ]
     },
     "metadata": {
      "needs_background": "light"
     },
     "output_type": "display_data"
    }
   ],
   "source": [
    "df.plot(x='Age', y='Premium Charges', kind='scatter', color='dodgerblue',\\\n",
    "        figsize=(12,4), s=30);\n",
    "\n",
    "#plt.rcParams['font.size'] = '10'\n",
    "plt.xlabel('Age', fontsize=12)\n",
    "plt.ylabel('Premium Charged ($)', fontsize=12)\n",
    "plt.suptitle('Correlation between BMI and Premium Charges', fontsize=12)"
   ]
  },
  {
   "cell_type": "markdown",
   "id": "5a5c7894",
   "metadata": {},
   "source": [
    "### Bar Chart"
   ]
  },
  {
   "cell_type": "markdown",
   "id": "6b4c1aa5",
   "metadata": {},
   "source": [
    "The purpose of a bar graph is to convey relational information quickly in a visual manner. The bars display the value for a particular category of data. From the bar chart below, it shows that smokers have to by a higher premium on average as opposed to non smokers. The difference in average premium is about 24k. "
   ]
  },
  {
   "cell_type": "code",
   "execution_count": 317,
   "id": "b57ae3b6",
   "metadata": {},
   "outputs": [
    {
     "data": {
      "text/html": [
       "<div>\n",
       "<style scoped>\n",
       "    .dataframe tbody tr th:only-of-type {\n",
       "        vertical-align: middle;\n",
       "    }\n",
       "\n",
       "    .dataframe tbody tr th {\n",
       "        vertical-align: top;\n",
       "    }\n",
       "\n",
       "    .dataframe thead th {\n",
       "        text-align: right;\n",
       "    }\n",
       "</style>\n",
       "<table border=\"1\" class=\"dataframe\">\n",
       "  <thead>\n",
       "    <tr style=\"text-align: right;\">\n",
       "      <th></th>\n",
       "      <th>Premium Charges</th>\n",
       "    </tr>\n",
       "    <tr>\n",
       "      <th>Smoker</th>\n",
       "      <th></th>\n",
       "    </tr>\n",
       "  </thead>\n",
       "  <tbody>\n",
       "    <tr>\n",
       "      <th>no</th>\n",
       "      <td>8440.660310</td>\n",
       "    </tr>\n",
       "    <tr>\n",
       "      <th>yes</th>\n",
       "      <td>32050.231898</td>\n",
       "    </tr>\n",
       "  </tbody>\n",
       "</table>\n",
       "</div>"
      ],
      "text/plain": [
       "        Premium Charges\n",
       "Smoker                 \n",
       "no          8440.660310\n",
       "yes        32050.231898"
      ]
     },
     "execution_count": 317,
     "metadata": {},
     "output_type": "execute_result"
    }
   ],
   "source": [
    "AvgCharges = df[['Premium Charges' , 'Smoker']].groupby('Smoker').mean()\n",
    "AvgCharges.head()"
   ]
  },
  {
   "cell_type": "code",
   "execution_count": 332,
   "id": "0d8d75c5",
   "metadata": {},
   "outputs": [
    {
     "data": {
      "image/png": "[encoded data removed]",
      "text/plain": [
       "<Figure size 640x480 with 1 Axes>"
      ]
     },
     "metadata": {},
     "output_type": "display_data"
    }
   ],
   "source": [
    "bars=('Non-Smoker','Smoker')\n",
    "y_pos = np.arange(len(bars))\n",
    "width = [0.6,0.6]\n",
    "\n",
    "plt.rcdefaults()\n",
    "\n",
    "plt.bar(\n",
    "    x=np.arange(AvgCharges.size), width=width,\n",
    "    height=AvgCharges['Premium Charges'],  color=['#E0BBE4', '#957DAD']\n",
    ")\n",
    "\n",
    "plt.title('Average Premium Charged for smokers/non-smokers', fontsize='10')\n",
    "plt.ylabel('Average Premium ($)')\n",
    "plt.xticks(y_pos, bars, color='black', rotation=360, fontsize='10')\n",
    "plt.show()"
   ]
  },
  {
   "cell_type": "markdown",
   "id": "70116604",
   "metadata": {},
   "source": [
    "### Horizontal Bar Chart"
   ]
  },
  {
   "cell_type": "markdown",
   "id": "c3cf62f4",
   "metadata": {},
   "source": [
    "After adding a new column which separates the BMI by categories, we can see that policy holders who are obese generally have to pay a higher premium. On the other hand, individuals who are within the healthy or underweight category pay a lower premium. Possible reason for this is that people with obesity are more likely to develop a number of potentially serious health problems, including: Heart disease and strokes. As they are at higher risk of health related issues, insurance companies would charge higher fees to cover potential claims."
   ]
  },
  {
   "cell_type": "code",
   "execution_count": 465,
   "id": "f4e6100e",
   "metadata": {
    "scrolled": true
   },
   "outputs": [
    {
     "data": {
      "text/html": [
       "<div>\n",
       "<style scoped>\n",
       "    .dataframe tbody tr th:only-of-type {\n",
       "        vertical-align: middle;\n",
       "    }\n",
       "\n",
       "    .dataframe tbody tr th {\n",
       "        vertical-align: top;\n",
       "    }\n",
       "\n",
       "    .dataframe thead th {\n",
       "        text-align: right;\n",
       "    }\n",
       "</style>\n",
       "<table border=\"1\" class=\"dataframe\">\n",
       "  <thead>\n",
       "    <tr style=\"text-align: right;\">\n",
       "      <th></th>\n",
       "      <th>Premium Charges</th>\n",
       "    </tr>\n",
       "    <tr>\n",
       "      <th>Weight Category</th>\n",
       "      <th></th>\n",
       "    </tr>\n",
       "  </thead>\n",
       "  <tbody>\n",
       "    <tr>\n",
       "      <th>Class 1 Obesity</th>\n",
       "      <td>14331.553876</td>\n",
       "    </tr>\n",
       "    <tr>\n",
       "      <th>Class 2 Obesity</th>\n",
       "      <td>17226.632775</td>\n",
       "    </tr>\n",
       "    <tr>\n",
       "      <th>Class 3 Obesity</th>\n",
       "      <td>16707.659783</td>\n",
       "    </tr>\n",
       "    <tr>\n",
       "      <th>Healthy</th>\n",
       "      <td>10379.499685</td>\n",
       "    </tr>\n",
       "    <tr>\n",
       "      <th>Overweight</th>\n",
       "      <td>11000.079203</td>\n",
       "    </tr>\n",
       "    <tr>\n",
       "      <th>Underweight</th>\n",
       "      <td>8852.201000</td>\n",
       "    </tr>\n",
       "  </tbody>\n",
       "</table>\n",
       "</div>"
      ],
      "text/plain": [
       "                 Premium Charges\n",
       "Weight Category                 \n",
       "Class 1 Obesity     14331.553876\n",
       "Class 2 Obesity     17226.632775\n",
       "Class 3 Obesity     16707.659783\n",
       "Healthy             10379.499685\n",
       "Overweight          11000.079203\n",
       "Underweight          8852.201000"
      ]
     },
     "execution_count": 465,
     "metadata": {},
     "output_type": "execute_result"
    }
   ],
   "source": [
    "AvgCharges_weight = df[['Premium Charges' , 'Weight Category']].groupby('Weight Category').mean()\n",
    "AvgCharges_weight.head(6)"
   ]
  },
  {
   "cell_type": "code",
   "execution_count": 463,
   "id": "9b6aedcd",
   "metadata": {
    "scrolled": false
   },
   "outputs": [
    {
     "data": {
      "image/png": "[encoded data removed]",
      "text/plain": [
       "<Figure size 864x360 with 1 Axes>"
      ]
     },
     "metadata": {
      "needs_background": "light"
     },
     "output_type": "display_data"
    }
   ],
   "source": [
    "Sort_AvgCharges_weight = AvgCharges_weight.sort_values('Premium Charges', ascending=False)\n",
    "\n",
    "Sort_AvgCharges_weight.plot(kind='barh',figsize=(12,5),color=['#6fb77e'])\n",
    "plt.title('Average Premium Charged per BMI Classifications', fontsize=12)\n",
    "plt.ylabel('BMI Classification', fontsize=12)\n",
    "plt.xlabel('Average Premium Charged ($)', fontsize=12)\n",
    "plt.grid(False)\n",
    "plt.show()"
   ]
  },
  {
   "cell_type": "markdown",
   "id": "c82ed691",
   "metadata": {},
   "source": [
    "### Pie Chart"
   ]
  },
  {
   "cell_type": "markdown",
   "id": "75927697",
   "metadata": {},
   "source": [
    "Pie charts can be used to show percentages of a whole, and represents percentages at a set point in time. The chart belows shows the total premium charged by region. From this pie chart, the southeast region yields the highest premium charged. While the other region has a consistent percentage of around 23% of total premium charged. "
   ]
  },
  {
   "cell_type": "code",
   "execution_count": 461,
   "id": "8e7cee4f",
   "metadata": {},
   "outputs": [
    {
     "data": {
      "text/plain": [
       "<AxesSubplot:title={'center':'Total Premium Charged by Region'}, ylabel='Premium Charges'>"
      ]
     },
     "execution_count": 461,
     "metadata": {},
     "output_type": "execute_result"
    },
    {
     "data": {
      "image/png": "[encoded data removed]",
      "text/plain": [
       "<Figure size 648x648 with 1 Axes>"
      ]
     },
     "metadata": {},
     "output_type": "display_data"
    }
   ],
   "source": [
    "df.groupby(['Region']).sum().plot(kind='pie', y='Premium Charges', autopct='%1.0f%%',\n",
    "                                colors = ['burlywood', 'darkorange', 'wheat','goldenrod'],\n",
    "                                title='Total Premium Charged by Region', figsize=(9, 9), textprops={'fontsize': 12})\n",
    "\n"
   ]
  },
  {
   "cell_type": "markdown",
   "id": "2e258433",
   "metadata": {},
   "source": [
    "## 3. SQL \n",
    "---"
   ]
  },
  {
   "cell_type": "code",
   "execution_count": null,
   "id": "4fdd036d",
   "metadata": {},
   "outputs": [],
   "source": [
    "#bottom 5 premium \n",
    "#avg premium base on gender?"
   ]
  },
  {
   "cell_type": "code",
   "execution_count": 485,
   "id": "9c651733",
   "metadata": {},
   "outputs": [],
   "source": [
    "# Renaming columns to remove spaces \n",
    "\n",
    "df.columns = ['Age', 'Sex', 'BMI', 'Children', 'Smoker', 'Region', 'Premium_Charges',\n",
    "       'Weight_Category']"
   ]
  },
  {
   "cell_type": "code",
   "execution_count": 486,
   "id": "378933f9",
   "metadata": {
    "scrolled": true
   },
   "outputs": [
    {
     "data": {
      "text/plain": [
       "Index(['Age', 'Sex', 'BMI', 'Children', 'Smoker', 'Region', 'Premium_Charges',\n",
       "       'Weight_Category'],\n",
       "      dtype='object')"
      ]
     },
     "execution_count": 486,
     "metadata": {},
     "output_type": "execute_result"
    }
   ],
   "source": [
    "df.columns"
   ]
  },
  {
   "cell_type": "markdown",
   "id": "b09f98e3",
   "metadata": {},
   "source": [
    "### Top 5 premium charged to policy holders"
   ]
  },
  {
   "cell_type": "code",
   "execution_count": 498,
   "id": "abdeb8df",
   "metadata": {},
   "outputs": [],
   "source": [
    "q1 = \"\"\"\n",
    "    SELECT Age, Sex, BMI, Smoker, Premium_Charges, Weight_Category\n",
    "    FROM df\n",
    "    ORDER BY Premium_Charges DESC\n",
    "    LIMIT 5;\n",
    "    \"\"\""
   ]
  },
  {
   "cell_type": "code",
   "execution_count": 499,
   "id": "b5e029eb",
   "metadata": {
    "scrolled": true
   },
   "outputs": [
    {
     "data": {
      "text/html": [
       "<div>\n",
       "<style scoped>\n",
       "    .dataframe tbody tr th:only-of-type {\n",
       "        vertical-align: middle;\n",
       "    }\n",
       "\n",
       "    .dataframe tbody tr th {\n",
       "        vertical-align: top;\n",
       "    }\n",
       "\n",
       "    .dataframe thead th {\n",
       "        text-align: right;\n",
       "    }\n",
       "</style>\n",
       "<table border=\"1\" class=\"dataframe\">\n",
       "  <thead>\n",
       "    <tr style=\"text-align: right;\">\n",
       "      <th></th>\n",
       "      <th>Age</th>\n",
       "      <th>Sex</th>\n",
       "      <th>BMI</th>\n",
       "      <th>Smoker</th>\n",
       "      <th>Premium_Charges</th>\n",
       "      <th>Weight_Category</th>\n",
       "    </tr>\n",
       "  </thead>\n",
       "  <tbody>\n",
       "    <tr>\n",
       "      <th>0</th>\n",
       "      <td>54</td>\n",
       "      <td>female</td>\n",
       "      <td>47.4</td>\n",
       "      <td>yes</td>\n",
       "      <td>63770.43</td>\n",
       "      <td>Class 3 Obesity</td>\n",
       "    </tr>\n",
       "    <tr>\n",
       "      <th>1</th>\n",
       "      <td>45</td>\n",
       "      <td>male</td>\n",
       "      <td>30.4</td>\n",
       "      <td>yes</td>\n",
       "      <td>62592.87</td>\n",
       "      <td>Class 1 Obesity</td>\n",
       "    </tr>\n",
       "    <tr>\n",
       "      <th>2</th>\n",
       "      <td>52</td>\n",
       "      <td>male</td>\n",
       "      <td>34.5</td>\n",
       "      <td>yes</td>\n",
       "      <td>60021.40</td>\n",
       "      <td>Class 1 Obesity</td>\n",
       "    </tr>\n",
       "    <tr>\n",
       "      <th>3</th>\n",
       "      <td>31</td>\n",
       "      <td>female</td>\n",
       "      <td>38.1</td>\n",
       "      <td>yes</td>\n",
       "      <td>58571.07</td>\n",
       "      <td>Class 2 Obesity</td>\n",
       "    </tr>\n",
       "    <tr>\n",
       "      <th>4</th>\n",
       "      <td>33</td>\n",
       "      <td>female</td>\n",
       "      <td>35.5</td>\n",
       "      <td>yes</td>\n",
       "      <td>55135.40</td>\n",
       "      <td>Class 2 Obesity</td>\n",
       "    </tr>\n",
       "  </tbody>\n",
       "</table>\n",
       "</div>"
      ],
      "text/plain": [
       "   Age     Sex   BMI Smoker  Premium_Charges  Weight_Category\n",
       "0   54  female  47.4    yes         63770.43  Class 3 Obesity\n",
       "1   45    male  30.4    yes         62592.87  Class 1 Obesity\n",
       "2   52    male  34.5    yes         60021.40  Class 1 Obesity\n",
       "3   31  female  38.1    yes         58571.07  Class 2 Obesity\n",
       "4   33  female  35.5    yes         55135.40  Class 2 Obesity"
      ]
     },
     "execution_count": 499,
     "metadata": {},
     "output_type": "execute_result"
    }
   ],
   "source": [
    "output1 = sqldf(q1)\n",
    "output1"
   ]
  },
  {
   "cell_type": "markdown",
   "id": "b6f39ab8",
   "metadata": {},
   "source": [
    "### Average premium charged for each weight category "
   ]
  },
  {
   "cell_type": "code",
   "execution_count": 540,
   "id": "944bfd2a",
   "metadata": {},
   "outputs": [],
   "source": [
    "q2 = \"\"\"\n",
    "    SELECT AVG(Premium_Charges) As AverageCharges, Weight_Category\n",
    "    FROM df\n",
    "    GROUP BY Weight_Category\n",
    "    ORDER BY AverageCharges DESC;\n",
    "    \"\"\""
   ]
  },
  {
   "cell_type": "code",
   "execution_count": 541,
   "id": "af28a648",
   "metadata": {
    "scrolled": true
   },
   "outputs": [
    {
     "data": {
      "text/html": [
       "<div>\n",
       "<style scoped>\n",
       "    .dataframe tbody tr th:only-of-type {\n",
       "        vertical-align: middle;\n",
       "    }\n",
       "\n",
       "    .dataframe tbody tr th {\n",
       "        vertical-align: top;\n",
       "    }\n",
       "\n",
       "    .dataframe thead th {\n",
       "        text-align: right;\n",
       "    }\n",
       "</style>\n",
       "<table border=\"1\" class=\"dataframe\">\n",
       "  <thead>\n",
       "    <tr style=\"text-align: right;\">\n",
       "      <th></th>\n",
       "      <th>AverageCharges</th>\n",
       "      <th>Weight_Category</th>\n",
       "    </tr>\n",
       "  </thead>\n",
       "  <tbody>\n",
       "    <tr>\n",
       "      <th>0</th>\n",
       "      <td>17226.632775</td>\n",
       "      <td>Class 2 Obesity</td>\n",
       "    </tr>\n",
       "    <tr>\n",
       "      <th>1</th>\n",
       "      <td>16707.659783</td>\n",
       "      <td>Class 3 Obesity</td>\n",
       "    </tr>\n",
       "    <tr>\n",
       "      <th>2</th>\n",
       "      <td>14331.553876</td>\n",
       "      <td>Class 1 Obesity</td>\n",
       "    </tr>\n",
       "    <tr>\n",
       "      <th>3</th>\n",
       "      <td>11000.079203</td>\n",
       "      <td>Overweight</td>\n",
       "    </tr>\n",
       "    <tr>\n",
       "      <th>4</th>\n",
       "      <td>10379.499685</td>\n",
       "      <td>Healthy</td>\n",
       "    </tr>\n",
       "    <tr>\n",
       "      <th>5</th>\n",
       "      <td>8852.201000</td>\n",
       "      <td>Underweight</td>\n",
       "    </tr>\n",
       "  </tbody>\n",
       "</table>\n",
       "</div>"
      ],
      "text/plain": [
       "   AverageCharges  Weight_Category\n",
       "0    17226.632775  Class 2 Obesity\n",
       "1    16707.659783  Class 3 Obesity\n",
       "2    14331.553876  Class 1 Obesity\n",
       "3    11000.079203       Overweight\n",
       "4    10379.499685          Healthy\n",
       "5     8852.201000      Underweight"
      ]
     },
     "execution_count": 541,
     "metadata": {},
     "output_type": "execute_result"
    }
   ],
   "source": [
    "output2 = sqldf(q2)\n",
    "output2"
   ]
  },
  {
   "cell_type": "markdown",
   "id": "2918367b",
   "metadata": {},
   "source": [
    "### Average premium charged smoker vs non-smoker"
   ]
  },
  {
   "cell_type": "code",
   "execution_count": 542,
   "id": "2de27e19",
   "metadata": {},
   "outputs": [],
   "source": [
    "q3 = \"\"\"\n",
    "    SELECT AVG(Premium_Charges) As AverageCharges, Smoker\n",
    "    FROM df\n",
    "    GROUP BY Smoker\n",
    "    ORDER BY AverageCharges DESC;\n",
    "    \"\"\""
   ]
  },
  {
   "cell_type": "code",
   "execution_count": 543,
   "id": "dddab63b",
   "metadata": {
    "scrolled": false
   },
   "outputs": [
    {
     "data": {
      "text/html": [
       "<div>\n",
       "<style scoped>\n",
       "    .dataframe tbody tr th:only-of-type {\n",
       "        vertical-align: middle;\n",
       "    }\n",
       "\n",
       "    .dataframe tbody tr th {\n",
       "        vertical-align: top;\n",
       "    }\n",
       "\n",
       "    .dataframe thead th {\n",
       "        text-align: right;\n",
       "    }\n",
       "</style>\n",
       "<table border=\"1\" class=\"dataframe\">\n",
       "  <thead>\n",
       "    <tr style=\"text-align: right;\">\n",
       "      <th></th>\n",
       "      <th>AverageCharges</th>\n",
       "      <th>Smoker</th>\n",
       "    </tr>\n",
       "  </thead>\n",
       "  <tbody>\n",
       "    <tr>\n",
       "      <th>0</th>\n",
       "      <td>32050.231898</td>\n",
       "      <td>yes</td>\n",
       "    </tr>\n",
       "    <tr>\n",
       "      <th>1</th>\n",
       "      <td>8440.660310</td>\n",
       "      <td>no</td>\n",
       "    </tr>\n",
       "  </tbody>\n",
       "</table>\n",
       "</div>"
      ],
      "text/plain": [
       "   AverageCharges Smoker\n",
       "0    32050.231898    yes\n",
       "1     8440.660310     no"
      ]
     },
     "execution_count": 543,
     "metadata": {},
     "output_type": "execute_result"
    }
   ],
   "source": [
    "output3 = sqldf(q3)\n",
    "output3"
   ]
  },
  {
   "cell_type": "markdown",
   "id": "b118bd6e",
   "metadata": {},
   "source": [
    "### Avereage premium for healthy and non smoking individual"
   ]
  },
  {
   "cell_type": "code",
   "execution_count": 570,
   "id": "d2552f55",
   "metadata": {},
   "outputs": [],
   "source": [
    "q4 = \"\"\"\n",
    "    SELECT Weight_Category, Smoker, AVG(Premium_Charges) as Average_Charges\n",
    "    FROM df\n",
    "    WHERE Weight_Category = 'Healthy' AND Smoker = 'no';\n",
    "    \"\"\""
   ]
  },
  {
   "cell_type": "code",
   "execution_count": 571,
   "id": "b25e453d",
   "metadata": {},
   "outputs": [
    {
     "data": {
      "text/html": [
       "<div>\n",
       "<style scoped>\n",
       "    .dataframe tbody tr th:only-of-type {\n",
       "        vertical-align: middle;\n",
       "    }\n",
       "\n",
       "    .dataframe tbody tr th {\n",
       "        vertical-align: top;\n",
       "    }\n",
       "\n",
       "    .dataframe thead th {\n",
       "        text-align: right;\n",
       "    }\n",
       "</style>\n",
       "<table border=\"1\" class=\"dataframe\">\n",
       "  <thead>\n",
       "    <tr style=\"text-align: right;\">\n",
       "      <th></th>\n",
       "      <th>Weight_Category</th>\n",
       "      <th>Smoker</th>\n",
       "      <th>Average_Charges</th>\n",
       "    </tr>\n",
       "  </thead>\n",
       "  <tbody>\n",
       "    <tr>\n",
       "      <th>0</th>\n",
       "      <td>Healthy</td>\n",
       "      <td>no</td>\n",
       "      <td>7599.638198</td>\n",
       "    </tr>\n",
       "  </tbody>\n",
       "</table>\n",
       "</div>"
      ],
      "text/plain": [
       "  Weight_Category Smoker  Average_Charges\n",
       "0         Healthy     no      7599.638198"
      ]
     },
     "execution_count": 571,
     "metadata": {},
     "output_type": "execute_result"
    }
   ],
   "source": [
    "output4 = sqldf(q4)\n",
    "output4"
   ]
  },
  {
   "cell_type": "markdown",
   "id": "596bcc8e",
   "metadata": {},
   "source": [
    "### Premium charges for each age group"
   ]
  },
  {
   "cell_type": "code",
   "execution_count": 590,
   "id": "1d572761",
   "metadata": {},
   "outputs": [],
   "source": [
    "q5 = \"\"\"\n",
    "    SELECT AVG(Premium_Charges) as Average_Charges,\n",
    "    CASE \n",
    "        WHEN Age < 25 THEN 'Age < 25'\n",
    "        WHEN Age BETWEEN 25 AND 40 THEN 'Age 25 - 40'\n",
    "        WHEN Age BETWEEN 41 AND 60 THEN 'Age 41 - 60'\n",
    "        ELSE 'Age > 60'\n",
    "    END AS Age_Group\n",
    "    FROM df\n",
    "    GROUP BY Age_Group\n",
    "    ORDER BY Average_Charges;\n",
    "    \"\"\""
   ]
  },
  {
   "cell_type": "code",
   "execution_count": 591,
   "id": "b01a0c0e",
   "metadata": {},
   "outputs": [
    {
     "data": {
      "text/html": [
       "<div>\n",
       "<style scoped>\n",
       "    .dataframe tbody tr th:only-of-type {\n",
       "        vertical-align: middle;\n",
       "    }\n",
       "\n",
       "    .dataframe tbody tr th {\n",
       "        vertical-align: top;\n",
       "    }\n",
       "\n",
       "    .dataframe thead th {\n",
       "        text-align: right;\n",
       "    }\n",
       "</style>\n",
       "<table border=\"1\" class=\"dataframe\">\n",
       "  <thead>\n",
       "    <tr style=\"text-align: right;\">\n",
       "      <th></th>\n",
       "      <th>Average_Charges</th>\n",
       "      <th>Age_Group</th>\n",
       "    </tr>\n",
       "  </thead>\n",
       "  <tbody>\n",
       "    <tr>\n",
       "      <th>0</th>\n",
       "      <td>9037.953321</td>\n",
       "      <td>Age &lt; 25</td>\n",
       "    </tr>\n",
       "    <tr>\n",
       "      <th>1</th>\n",
       "      <td>11013.387352</td>\n",
       "      <td>Age 25 - 40</td>\n",
       "    </tr>\n",
       "    <tr>\n",
       "      <th>2</th>\n",
       "      <td>15888.757637</td>\n",
       "      <td>Age 41 - 60</td>\n",
       "    </tr>\n",
       "    <tr>\n",
       "      <th>3</th>\n",
       "      <td>21063.163297</td>\n",
       "      <td>Age &gt; 60</td>\n",
       "    </tr>\n",
       "  </tbody>\n",
       "</table>\n",
       "</div>"
      ],
      "text/plain": [
       "   Average_Charges    Age_Group\n",
       "0      9037.953321     Age < 25\n",
       "1     11013.387352  Age 25 - 40\n",
       "2     15888.757637  Age 41 - 60\n",
       "3     21063.163297     Age > 60"
      ]
     },
     "execution_count": 591,
     "metadata": {},
     "output_type": "execute_result"
    }
   ],
   "source": [
    "output5 = sqldf(q5)\n",
    "output5"
   ]
  }
 ],
 "metadata": {
  "kernelspec": {
   "display_name": "Python 3",
   "language": "python",
   "name": "python3"
  },
  "language_info": {
   "codemirror_mode": {
    "name": "ipython",
    "version": 3
   },
   "file_extension": ".py",
   "mimetype": "text/x-python",
   "name": "python",
   "nbconvert_exporter": "python",
   "pygments_lexer": "ipython3",
   "version": "3.8.8"
  }
 },
 "nbformat": 4,
 "nbformat_minor": 5
}
